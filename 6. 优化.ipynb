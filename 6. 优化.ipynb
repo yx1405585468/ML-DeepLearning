{
 "cells": [
  {
   "cell_type": "markdown",
   "metadata": {},
   "source": [
    "\n",
    "\n",
    "优化模型参数\n",
    "===========================\n",
    "\n",
    "现在我们有了模型和数据，是时候通过优化模型参数来训练、验证和测试我们的模型了。训练模型是一个迭代过程；在每次迭代中，模型都会对输出进行猜测，计算其猜测的误差（损失），收集误差相对于其参数的导数（正如我们在上一节中看到的），并使用梯度下降优化这些参数。有关此过程的更详细演练，请查看有关来自 3Blue1Brown 的反向传播的视频。[backpropagation from\n",
    "3Blue1Brown](https://www.youtube.com/watch?v=tIeHLnjs5U8).\n",
    "\n",
    "先决条件代码\n",
    "-----------------\n",
    "\n",
    "我们从先前章节中加载代码，这些章节介绍了数据集和数据加载器以及构建模型。\n"
   ]
  },
  {
   "cell_type": "code",
   "execution_count": 21,
   "metadata": {},
   "outputs": [],
   "source": [
    "# 导入模块\n",
    "import torch\n",
    "from torch import nn\n",
    "from torch.utils.data import DataLoader\n",
    "from torchvision import datasets\n",
    "from torchvision.transforms import ToTensor"
   ]
  },
  {
   "cell_type": "code",
   "execution_count": 22,
   "metadata": {},
   "outputs": [],
   "source": [
    "# 生成数据集\n",
    "training_data = datasets.FashionMNIST(\n",
    "    root=\"../data\",\n",
    "    train=True,\n",
    "    download=True,\n",
    "    transform=ToTensor()\n",
    ")\n",
    "\n",
    "test_data = datasets.FashionMNIST(\n",
    "    root=\"../data\",\n",
    "    train=False,\n",
    "    download=True,\n",
    "    transform=ToTensor()\n",
    ")"
   ]
  },
  {
   "cell_type": "code",
   "execution_count": 23,
   "metadata": {},
   "outputs": [],
   "source": [
    "# 封装成数据迭代器\n",
    "train_dataloader = DataLoader(training_data, batch_size=64)\n",
    "test_dataloader = DataLoader(test_data, batch_size=64)"
   ]
  },
  {
   "cell_type": "code",
   "execution_count": 24,
   "metadata": {
    "collapsed": false
   },
   "outputs": [],
   "source": [
    "# 定义网络结构\n",
    "class NeuralNetwork(nn.Module):\n",
    "    def __init__(self):\n",
    "        super().__init__()\n",
    "        self.flatten = nn.Flatten()\n",
    "        self.linear_relu_stack = nn.Sequential(\n",
    "            nn.Linear(28*28, 512),\n",
    "            nn.ReLU(),\n",
    "            nn.Linear(512, 512),\n",
    "            nn.ReLU(),\n",
    "            nn.Linear(512, 10),\n",
    "        )\n",
    "\n",
    "    def forward(self, x):\n",
    "        x = self.flatten(x)\n",
    "        logits = self.linear_relu_stack(x)\n",
    "        return logits\n",
    "\n",
    "model = NeuralNetwork()"
   ]
  },
  {
   "cell_type": "markdown",
   "metadata": {},
   "source": [
    "超参数\n",
    "===============\n",
    "\n",
    "超参数是可以调整的参数，它们可以让你控制模型优化过程。不同的超参数值会影响模型训练和收敛速度（了解更多关于超参数调优的信息）。\n",
    "\n",
    "我们为训练定义以下超参数：\n",
    "\n",
    ":   -   **Epochs** - 在数据集上迭代的次数。\n",
    "    -   **Batch Size** - 在更新参数之前，通过网络传播的数据样本数量。\n",
    "    -   **Learning Rate** - 在每次批次/时期更新模型参数的幅度。较小的值会导致学习速度缓慢，而较大的值可能会导致训练过程中的不可预测行为\n"
   ]
  },
  {
   "cell_type": "code",
   "execution_count": 25,
   "metadata": {
    "collapsed": false
   },
   "outputs": [],
   "source": [
    "# 定义超参数\n",
    "learning_rate = 1e-3\n",
    "batch_size = 64\n",
    "epochs = 5"
   ]
  },
  {
   "cell_type": "markdown",
   "metadata": {},
   "source": [
    "优化循环\n",
    "=================\n",
    "\n",
    "在设置了超参数后，我们就可以使用优化循环来训练和优化模型。优化循环的每次迭代被称为一个 **epoch**.\n",
    "\n",
    "每个epoch 包含两个主要部分:\n",
    "\n",
    ":   -   **The Train Loop** - 在训练数据集上迭代，并尝试收敛到最佳参数。.\n",
    "    -   **The Validation/Test Loop** - 在测试数据集上迭代，检查模型性能是否有所提升.\n",
    "\n",
    "损失函数\n",
    "-------------\n",
    "\n",
    "当给定一些训练数据时，我们的未训练网络可能无法给出正确的结果。**损失函数**衡量获得的结果与目标值的差异程度，我们希望在训练过程中最小化损失函数。为了计算损失，我们使用给定数据样本的输入进行预测，并将预测结果与真实数据标签值进行比较。\n",
    "\n",
    "常见的损失函数包括nn.MSELoss（均方误差），适用于回归任务，以及nn.NLLLoss（负对数似然），适用于分类任务。\n",
    "nn.CrossEntropyLoss将nn.LogSoftmax和nn.NLLLoss结合在一起。\n",
    "\n",
    "我们将模型的输出 logits 传递给nn.CrossEntropyLoss，它会对 logits 进行归一化并计算预测误差。\n"
   ]
  },
  {
   "cell_type": "code",
   "execution_count": 26,
   "metadata": {
    "collapsed": false
   },
   "outputs": [],
   "source": [
    "# 初始化损失函数\n",
    "loss_fn = nn.CrossEntropyLoss()"
   ]
  },
  {
   "cell_type": "markdown",
   "metadata": {},
   "source": [
    "优化器\n",
    "=========\n",
    "\n",
    "优化是指调整模型参数以减少每次训练步骤中的模型误差的过程。优化算法定义了如何执行此过程（在本例中，我们使用随机梯度下降）。所有优化逻辑都封装在optimizer对象中。这里，我们使用 SGD 优化器；此外，PyTorch 还提供许多不同的优化器，例如 ADAM 和 RMSProp，它们更适合不同的模型和数据类型。\n",
    "\n",
    "我们通过注册需要训练的模型参数并传入学习率超参数来初始化优化器。\n"
   ]
  },
  {
   "cell_type": "code",
   "execution_count": 27,
   "metadata": {
    "collapsed": false
   },
   "outputs": [],
   "source": [
    "# 选择优化器\n",
    "optimizer = torch.optim.SGD(model.parameters(), lr=learning_rate)"
   ]
  },
  {
   "cell_type": "markdown",
   "metadata": {},
   "source": [
    "在训练循环中，优化分三个步骤进行：\n",
    "\n",
    "-   调用optimizer.zero_grad()重置模型参数的梯度。默认情况下，梯度会累加；为了防止重复计数，我们在每次迭代中显式地将其归零。\n",
    "-   使用loss.backward()反向传播预测损失。PyTorch 将损失相对于每个参数的梯度存储起来。\n",
    "-   在获得梯度后，我们调用optimizer.step()根据反向传播中收集的梯度调整参数。\n"
   ]
  },
  {
   "cell_type": "markdown",
   "metadata": {},
   "source": [
    "完整实现\n",
    "===================\n",
    "\n",
    "我们定义了train_loop来循环执行优化代码，以及test_loop来评估模型在测试数据上的性能。\n"
   ]
  },
  {
   "cell_type": "code",
   "execution_count": 28,
   "metadata": {
    "collapsed": false
   },
   "outputs": [],
   "source": [
    "# 前面定义好了部分组件\n",
    "loss_fn=loss_fn\n",
    "model=model\n",
    "optimizer=optimizer\n",
    "\n",
    "def train_loop(dataloader, model, loss_fn, optimizer):\n",
    "    size = len(dataloader.dataset)\n",
    "    # 将模型设置为训练模式--这对批量归一化和丢弃层很重要\n",
    "    # 虽然在这种情况下没有必要，但为最佳实践而添加\n",
    "    model.train()\n",
    "\n",
    "    for batch, (X, y) in enumerate(dataloader):\n",
    "        # 计算预测值和损失\n",
    "        pred = model(X)\n",
    "        loss = loss_fn(pred, y)\n",
    "\n",
    "        # 反向传播\n",
    "        loss.backward() # 计算梯度\n",
    "        optimizer.step() # 更新梯度\n",
    "        optimizer.zero_grad() # 梯度清空\n",
    "\n",
    "        if batch % 100 == 0:\n",
    "            loss, current = loss.item(), batch * batch_size + len(X)\n",
    "            print(f\"loss: {loss:>7f}  [{current:>5d}/{size:>5d}]\")\n",
    "\n",
    "\n",
    "def test_loop(dataloader, model, loss_fn):\n",
    "    # 将模型设置为评估模式--这对批量归一化和丢弃层很重要\n",
    "    # 虽然在这种情况下没有必要，但为最佳实践而添加\n",
    "    model.eval()\n",
    "    size = len(dataloader.dataset)\n",
    "    num_batches = len(dataloader)\n",
    "    test_loss, correct = 0, 0\n",
    "\n",
    "    \n",
    "    # 使用 torch.no_grad() 评估模型可确保在测试模式下不计算梯度。\n",
    "    # 还可减少不必要的梯度计算和内存使用，适用于 requires_grad=True 的张量系数\n",
    "    with torch.no_grad():\n",
    "        for X, y in dataloader:\n",
    "            pred = model(X)\n",
    "            test_loss += loss_fn(pred, y).item()\n",
    "            correct += (pred.argmax(1) == y).type(torch.float).sum().item()\n",
    "\n",
    "    test_loss /= num_batches\n",
    "    correct /= size\n",
    "    print(f\"Test Error: \\n Accuracy: {(100*correct):>0.1f}%, Avg loss: {test_loss:>8f} \\n\")"
   ]
  },
  {
   "cell_type": "markdown",
   "metadata": {},
   "source": [
    "我们初始化了损失函数和优化器，并将其传递给train_loop和test_loop。可以随意增加epoch数，以跟踪模型性能的提升。\n"
   ]
  },
  {
   "cell_type": "code",
   "execution_count": 29,
   "metadata": {
    "collapsed": false
   },
   "outputs": [
    {
     "name": "stdout",
     "output_type": "stream",
     "text": [
      "Epoch 1\n",
      "-------------------------------\n",
      "loss: 2.298223  [   64/60000]\n",
      "loss: 2.292270  [ 6464/60000]\n",
      "loss: 2.274063  [12864/60000]\n",
      "loss: 2.275115  [19264/60000]\n",
      "loss: 2.254983  [25664/60000]\n",
      "loss: 2.233664  [32064/60000]\n",
      "loss: 2.229042  [38464/60000]\n",
      "loss: 2.202057  [44864/60000]\n",
      "loss: 2.198076  [51264/60000]\n",
      "loss: 2.164514  [57664/60000]\n",
      "Test Error: \n",
      " Accuracy: 53.0%, Avg loss: 2.164512 \n",
      "\n",
      "Epoch 2\n",
      "-------------------------------\n",
      "loss: 2.167833  [   64/60000]\n",
      "loss: 2.161209  [ 6464/60000]\n",
      "loss: 2.107714  [12864/60000]\n",
      "loss: 2.128280  [19264/60000]\n",
      "loss: 2.076263  [25664/60000]\n",
      "loss: 2.019917  [32064/60000]\n",
      "loss: 2.032500  [38464/60000]\n",
      "loss: 1.962500  [44864/60000]\n",
      "loss: 1.965771  [51264/60000]\n",
      "loss: 1.888948  [57664/60000]\n",
      "Test Error: \n",
      " Accuracy: 57.1%, Avg loss: 1.894847 \n",
      "\n",
      "Epoch 3\n",
      "-------------------------------\n",
      "loss: 1.918921  [   64/60000]\n",
      "loss: 1.893159  [ 6464/60000]\n",
      "loss: 1.778696  [12864/60000]\n",
      "loss: 1.822634  [19264/60000]\n",
      "loss: 1.714664  [25664/60000]\n",
      "loss: 1.665161  [32064/60000]\n",
      "loss: 1.677687  [38464/60000]\n",
      "loss: 1.585504  [44864/60000]\n",
      "loss: 1.607945  [51264/60000]\n",
      "loss: 1.497076  [57664/60000]\n",
      "Test Error: \n",
      " Accuracy: 60.6%, Avg loss: 1.519944 \n",
      "\n",
      "Epoch 4\n",
      "-------------------------------\n",
      "loss: 1.582167  [   64/60000]\n",
      "loss: 1.547319  [ 6464/60000]\n",
      "loss: 1.399511  [12864/60000]\n",
      "loss: 1.470100  [19264/60000]\n",
      "loss: 1.358897  [25664/60000]\n",
      "loss: 1.358398  [32064/60000]\n",
      "loss: 1.364907  [38464/60000]\n",
      "loss: 1.293156  [44864/60000]\n",
      "loss: 1.325262  [51264/60000]\n",
      "loss: 1.229309  [57664/60000]\n",
      "Test Error: \n",
      " Accuracy: 62.5%, Avg loss: 1.253077 \n",
      "\n",
      "Epoch 5\n",
      "-------------------------------\n",
      "loss: 1.327067  [   64/60000]\n",
      "loss: 1.307716  [ 6464/60000]\n",
      "loss: 1.145917  [12864/60000]\n",
      "loss: 1.248816  [19264/60000]\n",
      "loss: 1.133832  [25664/60000]\n",
      "loss: 1.163932  [32064/60000]\n",
      "loss: 1.179443  [38464/60000]\n",
      "loss: 1.115779  [44864/60000]\n",
      "loss: 1.149424  [51264/60000]\n",
      "loss: 1.079984  [57664/60000]\n",
      "Test Error: \n",
      " Accuracy: 63.9%, Avg loss: 1.093224 \n",
      "\n",
      "Epoch 6\n",
      "-------------------------------\n",
      "loss: 1.159590  [   64/60000]\n",
      "loss: 1.162357  [ 6464/60000]\n",
      "loss: 0.985478  [12864/60000]\n",
      "loss: 1.115974  [19264/60000]\n",
      "loss: 0.998662  [25664/60000]\n",
      "loss: 1.037198  [32064/60000]\n",
      "loss: 1.067538  [38464/60000]\n",
      "loss: 1.006986  [44864/60000]\n",
      "loss: 1.035334  [51264/60000]\n",
      "loss: 0.988109  [57664/60000]\n",
      "Test Error: \n",
      " Accuracy: 65.1%, Avg loss: 0.991716 \n",
      "\n",
      "Epoch 7\n",
      "-------------------------------\n",
      "loss: 1.044721  [   64/60000]\n",
      "loss: 1.070150  [ 6464/60000]\n",
      "loss: 0.877598  [12864/60000]\n",
      "loss: 1.027804  [19264/60000]\n",
      "loss: 0.913247  [25664/60000]\n",
      "loss: 0.948178  [32064/60000]\n",
      "loss: 0.994129  [38464/60000]\n",
      "loss: 0.937183  [44864/60000]\n",
      "loss: 0.954831  [51264/60000]\n",
      "loss: 0.925124  [57664/60000]\n",
      "Test Error: \n",
      " Accuracy: 66.4%, Avg loss: 0.921673 \n",
      "\n",
      "Epoch 8\n",
      "-------------------------------\n",
      "loss: 0.959541  [   64/60000]\n",
      "loss: 1.005452  [ 6464/60000]\n",
      "loss: 0.799504  [12864/60000]\n",
      "loss: 0.964219  [19264/60000]\n",
      "loss: 0.855057  [25664/60000]\n",
      "loss: 0.881781  [32064/60000]\n",
      "loss: 0.941659  [38464/60000]\n",
      "loss: 0.890464  [44864/60000]\n",
      "loss: 0.894985  [51264/60000]\n",
      "loss: 0.877958  [57664/60000]\n",
      "Test Error: \n",
      " Accuracy: 67.5%, Avg loss: 0.869906 \n",
      "\n",
      "Epoch 9\n",
      "-------------------------------\n",
      "loss: 0.892895  [   64/60000]\n",
      "loss: 0.955988  [ 6464/60000]\n",
      "loss: 0.739489  [12864/60000]\n",
      "loss: 0.915523  [19264/60000]\n",
      "loss: 0.812460  [25664/60000]\n",
      "loss: 0.830228  [32064/60000]\n",
      "loss: 0.901007  [38464/60000]\n",
      "loss: 0.857554  [44864/60000]\n",
      "loss: 0.848813  [51264/60000]\n",
      "loss: 0.840505  [57664/60000]\n",
      "Test Error: \n",
      " Accuracy: 69.2%, Avg loss: 0.829617 \n",
      "\n",
      "Epoch 10\n",
      "-------------------------------\n",
      "loss: 0.838686  [   64/60000]\n",
      "loss: 0.915317  [ 6464/60000]\n",
      "loss: 0.691540  [12864/60000]\n",
      "loss: 0.877034  [19264/60000]\n",
      "loss: 0.778992  [25664/60000]\n",
      "loss: 0.789159  [32064/60000]\n",
      "loss: 0.867676  [38464/60000]\n",
      "loss: 0.832993  [44864/60000]\n",
      "loss: 0.812301  [51264/60000]\n",
      "loss: 0.809602  [57664/60000]\n",
      "Test Error: \n",
      " Accuracy: 70.5%, Avg loss: 0.797057 \n",
      "\n",
      "Done!\n"
     ]
    }
   ],
   "source": [
    "loss_fn = nn.CrossEntropyLoss()\n",
    "optimizer = torch.optim.SGD(model.parameters(), lr=learning_rate)\n",
    "\n",
    "epochs = 10\n",
    "for t in range(epochs):\n",
    "    print(f\"Epoch {t+1}\\n-------------------------------\")\n",
    "    train_loop(train_dataloader, model, loss_fn, optimizer)\n",
    "    test_loop(test_dataloader, model, loss_fn)\n",
    "print(\"Done!\")"
   ]
  }
 ],
 "metadata": {
  "kernelspec": {
   "display_name": "Python 3",
   "language": "python",
   "name": "python3"
  },
  "language_info": {
   "codemirror_mode": {
    "name": "ipython",
    "version": 3
   },
   "file_extension": ".py",
   "mimetype": "text/x-python",
   "name": "python",
   "nbconvert_exporter": "python",
   "pygments_lexer": "ipython3",
   "version": "3.12.7"
  }
 },
 "nbformat": 4,
 "nbformat_minor": 0
}
