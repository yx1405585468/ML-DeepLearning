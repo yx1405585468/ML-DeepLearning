{
 "cells": [
  {
   "cell_type": "markdown",
   "metadata": {},
   "source": [
    "构建神经网络\n",
    "========================\n",
    "\n",
    "神经网络由对数据执行运算的层/模块组成。 torch.nn 命名空间提供了构建您自己的神经网络所需的所有构建块。PyTorch 中的每个模块都是 nn.Module 的子类。神经网络本身就是一个模块，由其他模块（层）组成。这种嵌套结构允许轻松构建和管理复杂的架构。\n",
    "\n",
    "在以下部分中，我们将构建一个神经网络来对 FashionMNIST 数据集中的图像进行分类。\n"
   ]
  },
  {
   "cell_type": "code",
   "execution_count": 18,
   "metadata": {
    "collapsed": false
   },
   "outputs": [],
   "source": [
    "import os\n",
    "import torch\n",
    "from torch import nn\n",
    "from torch.utils.data import DataLoader\n",
    "from torchvision import datasets, transforms"
   ]
  },
  {
   "cell_type": "markdown",
   "metadata": {},
   "source": [
    "获取用于训练的设备\n",
    "=======================\n",
    "\n",
    "我们希望能够在 GPU 或 MPS 等硬件加速器上训练我们的模型（如果可用）。让我们检查一下 torch.cuda 或 torch.backends.mps 是否可用，否则我们将使用 CPU。\n"
   ]
  },
  {
   "cell_type": "code",
   "execution_count": 19,
   "metadata": {
    "collapsed": false
   },
   "outputs": [
    {
     "name": "stdout",
     "output_type": "stream",
     "text": [
      "Using cuda device\n"
     ]
    }
   ],
   "source": [
    "# 有啥用啥\n",
    "device = (\n",
    "    \"cuda\"\n",
    "    if torch.cuda.is_available()\n",
    "    else \"mps\"\n",
    "    if torch.backends.mps.is_available()\n",
    "    else \"cpu\"\n",
    ")\n",
    "print(f\"Using {device} device\")"
   ]
  },
  {
   "cell_type": "markdown",
   "metadata": {},
   "source": [
    "定义类\n",
    "================\n",
    "\n",
    "我们通过子类化 nn.Module 来定义神经网络，并在 __init__ 中初始化神经网络层。每个 nn.Module 子类都在 forward 方法中实现对输入数据的操作。\n",
    "\n",
    ". nn.Flatten() 的功能\n",
    "将张量的形状展平为一维向量（从第二个维度开始）。\n",
    "例如，输入形状是 \n",
    "(\n",
    "𝑁\n",
    ",\n",
    "𝐶\n",
    ",\n",
    "𝐻\n",
    ",\n",
    "𝑊\n",
    ")\n",
    "(N,C,H,W)，经过 Flatten() 后会变成 \n",
    "(\n",
    "𝑁\n",
    ",\n",
    "𝐶\n",
    "×\n",
    "𝐻\n",
    "×\n",
    "𝑊\n",
    ")\n",
    "(N,C×H×W)。\n",
    "N 是批量大小（batch size）。\n",
    "C 是通道数。\n",
    "H, W 是高和宽。\n",
    "只对非批量维度（即从第二维度开始）进行展平，批量维度 \n",
    "𝑁\n",
    "N 保持不变。\n"
   ]
  },
  {
   "cell_type": "code",
   "execution_count": 20,
   "metadata": {},
   "outputs": [],
   "source": [
    "class NeuralNetwork(nn.Module):\n",
    "    def __init__(self) -> None:\n",
    "        super().__init__() # 初始化 继承父类\n",
    "\n",
    "        # 定义好类方法\n",
    "        self.flatten = nn.Flatten()\n",
    "        self.linear_relu_stack = nn.Sequential(\n",
    "            nn.Linear(28*28, 512),\n",
    "            nn.ReLU(),\n",
    "            nn.Linear(512, 512),\n",
    "            nn.ReLU(),\n",
    "            nn.Linear(512, 10),\n",
    "        )\n",
    "\n",
    "    # 前向传播（预测推理）的时候，使用类方法处理\n",
    "    def forward(self, x):\n",
    "        x = self.flatten(x)\n",
    "        logits = self.linear_relu_stack(x)\n",
    "        return logits\n",
    "\n"
   ]
  },
  {
   "cell_type": "markdown",
   "metadata": {},
   "source": [
    "我们创建 NeuralNetwork 的实例，并将它移动到 device 上，然后打印它的结构。"
   ]
  },
  {
   "cell_type": "code",
   "execution_count": 21,
   "metadata": {
    "collapsed": false
   },
   "outputs": [
    {
     "name": "stdout",
     "output_type": "stream",
     "text": [
      "NeuralNetwork(\n",
      "  (flatten): Flatten(start_dim=1, end_dim=-1)\n",
      "  (linear_relu_stack): Sequential(\n",
      "    (0): Linear(in_features=784, out_features=512, bias=True)\n",
      "    (1): ReLU()\n",
      "    (2): Linear(in_features=512, out_features=512, bias=True)\n",
      "    (3): ReLU()\n",
      "    (4): Linear(in_features=512, out_features=10, bias=True)\n",
      "  )\n",
      ")\n"
     ]
    }
   ],
   "source": [
    "model = NeuralNetwork().to(device)  # 模型移动到GPU\n",
    "print(model)"
   ]
  },
  {
   "cell_type": "markdown",
   "metadata": {},
   "source": [
    "要使用模型，我们将输入数据传递给它。这将执行模型的 forward 方法，以及一些 后台操作。\n",
    "不要直接调用 model.forward()！\n",
    "\n",
    "在输入数据上调用模型将返回一个二维张量，其中 dim=0 对应于每个输出的 10 个原始预测值（每个类别一个），dim=1 对应于每个输出的各个值。我们通过将它传递给 nn.Softmax 模块的实例来获得预测概率。\n"
   ]
  },
  {
   "cell_type": "code",
   "execution_count": 22,
   "metadata": {
    "collapsed": false
   },
   "outputs": [
    {
     "data": {
      "text/plain": [
       "tensor([[ 0.0149,  0.0087,  0.0222, -0.0285, -0.0839,  0.1577,  0.0261, -0.0170,\n",
       "          0.0846, -0.0053]], device='cuda:0', grad_fn=<AddmmBackward0>)"
      ]
     },
     "execution_count": 22,
     "metadata": {},
     "output_type": "execute_result"
    }
   ],
   "source": [
    "X = torch.rand(1, 28, 28, device=device) # 数据构造在GPU\n",
    "logits = model(X)\n",
    "logits\n"
   ]
  },
  {
   "cell_type": "code",
   "execution_count": 23,
   "metadata": {},
   "outputs": [
    {
     "data": {
      "text/plain": [
       "tensor([[0.0995, 0.0989, 0.1002, 0.0953, 0.0901, 0.1148, 0.1006, 0.0964, 0.1067,\n",
       "         0.0975]], device='cuda:0', grad_fn=<SoftmaxBackward0>)"
      ]
     },
     "execution_count": 23,
     "metadata": {},
     "output_type": "execute_result"
    }
   ],
   "source": [
    "pred_probab = nn.Softmax(dim=1)(logits) # dim = 1 每行归一化，每行所有列sum = 1\n",
    "pred_probab"
   ]
  },
  {
   "cell_type": "code",
   "execution_count": 24,
   "metadata": {},
   "outputs": [
    {
     "name": "stdout",
     "output_type": "stream",
     "text": [
      "Predicted class: tensor([5], device='cuda:0')\n"
     ]
    }
   ],
   "source": [
    "pred_probab = nn.Softmax(dim=1)(logits) # dim = 1 每行归一化，每行所有列sum = 1\n",
    "y_pred = pred_probab.argmax(1)\n",
    "print(f\"Predicted class: {y_pred}\")"
   ]
  },
  {
   "cell_type": "markdown",
   "metadata": {},
   "source": [
    "------------------------------------------------------------------------\n"
   ]
  },
  {
   "cell_type": "markdown",
   "metadata": {},
   "source": [
    "模型层\n",
    "============\n",
    "\n",
    "让我们分解一下 FashionMNIST 模型中的层。为了说明这一点，我们将取一个大小为 28x28 的 3 张图像的样本小批量，看看它在通过网络时会发生什么。\n"
   ]
  },
  {
   "cell_type": "code",
   "execution_count": 25,
   "metadata": {
    "collapsed": false
   },
   "outputs": [
    {
     "name": "stdout",
     "output_type": "stream",
     "text": [
      "torch.Size([3, 28, 28])\n"
     ]
    }
   ],
   "source": [
    "input_image = torch.rand(3,28,28)\n",
    "print(input_image.size())"
   ]
  },
  {
   "cell_type": "markdown",
   "metadata": {},
   "source": [
    "nn.Flatten\n",
    "==========\n",
    "\n",
    "我们初始化 nn.Flatten 层，将每个 2D 28x28 图像转换为 784 个像素值的连续数组（小批量维度（在 dim=0 处）保持不变）。\n"
   ]
  },
  {
   "cell_type": "code",
   "execution_count": 32,
   "metadata": {
    "collapsed": false
   },
   "outputs": [
    {
     "name": "stdout",
     "output_type": "stream",
     "text": [
      "torch.Size([3, 784])\n"
     ]
    }
   ],
   "source": [
    "flatten = nn.Flatten()\n",
    "flat_image = flatten(input_image)\n",
    "print(flat_image.size())\n",
    "\n",
    "# 可以看到flatten时，batch的size是不变的"
   ]
  },
  {
   "cell_type": "markdown",
   "metadata": {},
   "source": [
    "nn.Linear\n",
    "=========\n",
    "\n",
    "线性层 是一个模块，它使用其存储的权重和偏差对输入应用线性变换。\n"
   ]
  },
  {
   "cell_type": "code",
   "execution_count": 35,
   "metadata": {
    "collapsed": false
   },
   "outputs": [
    {
     "name": "stdout",
     "output_type": "stream",
     "text": [
      "torch.Size([3, 20])\n"
     ]
    }
   ],
   "source": [
    "layer1 = nn.Linear(in_features=28*28, out_features=20)\n",
    "hidden1 = layer1(flat_image)\n",
    "print(hidden1.size())\n",
    "\n",
    "# 这里储存的权重和偏差，还没有经过训练，所以有可能是随机的"
   ]
  },
  {
   "cell_type": "markdown",
   "metadata": {},
   "source": [
    "nn.ReLU\n",
    "=======\n",
    "\n",
    "非线性激活是模型的输入和输出之间创建复杂映射的关键。它们在线性变换之后应用，以引入非线性，帮助神经网络学习各种现象。\n",
    "\n",
    "在这个模型中，我们在线性层之间使用了 nn.ReLU，但还有其他激活可以在模型中引入非线性。\n"
   ]
  },
  {
   "cell_type": "code",
   "execution_count": 37,
   "metadata": {
    "collapsed": false
   },
   "outputs": [
    {
     "name": "stdout",
     "output_type": "stream",
     "text": [
      "Before ReLU: tensor([[0.0242, 0.1932, 0.0000, 0.2205, 0.4263, 0.0000, 0.3375, 0.0000, 0.0000,\n",
      "         0.2893, 0.0000, 0.0000, 0.0000, 0.3121, 0.0000, 0.0000, 0.0000, 0.6705,\n",
      "         0.3240, 0.5428],\n",
      "        [0.0000, 0.1709, 0.0000, 0.1613, 0.6608, 0.0000, 0.2555, 0.0990, 0.1571,\n",
      "         0.2042, 0.0000, 0.0000, 0.0000, 0.1893, 0.0965, 0.0000, 0.3434, 0.3892,\n",
      "         0.2041, 0.0000],\n",
      "        [0.0000, 0.0915, 0.0000, 0.0000, 0.5901, 0.0000, 0.2260, 0.0000, 0.0000,\n",
      "         0.1314, 0.0034, 0.0000, 0.0000, 0.1036, 0.0000, 0.0000, 0.4024, 0.9076,\n",
      "         0.3694, 0.0000]], grad_fn=<ReluBackward0>)\n",
      "\n",
      "\n",
      "After ReLU: tensor([[0.0242, 0.1932, 0.0000, 0.2205, 0.4263, 0.0000, 0.3375, 0.0000, 0.0000,\n",
      "         0.2893, 0.0000, 0.0000, 0.0000, 0.3121, 0.0000, 0.0000, 0.0000, 0.6705,\n",
      "         0.3240, 0.5428],\n",
      "        [0.0000, 0.1709, 0.0000, 0.1613, 0.6608, 0.0000, 0.2555, 0.0990, 0.1571,\n",
      "         0.2042, 0.0000, 0.0000, 0.0000, 0.1893, 0.0965, 0.0000, 0.3434, 0.3892,\n",
      "         0.2041, 0.0000],\n",
      "        [0.0000, 0.0915, 0.0000, 0.0000, 0.5901, 0.0000, 0.2260, 0.0000, 0.0000,\n",
      "         0.1314, 0.0034, 0.0000, 0.0000, 0.1036, 0.0000, 0.0000, 0.4024, 0.9076,\n",
      "         0.3694, 0.0000]], grad_fn=<ReluBackward0>)\n"
     ]
    }
   ],
   "source": [
    "print(f\"Before ReLU: {hidden1}\\n\\n\")\n",
    "hidden1 = nn.ReLU()(hidden1)\n",
    "print(f\"After ReLU: {hidden1}\")\n",
    "\n",
    "# 非线性变换"
   ]
  },
  {
   "cell_type": "markdown",
   "metadata": {},
   "source": [
    "nn.Sequential\n",
    "=============\n",
    "\n",
    "nn.Sequential 是模块的有序容器。数据按照定义的顺序依次通过所有模块。您可以使用顺序容器来快速构建网络，例如 seq_modules。\n"
   ]
  },
  {
   "cell_type": "code",
   "execution_count": 38,
   "metadata": {
    "collapsed": false
   },
   "outputs": [],
   "source": [
    "seq_modules = nn.Sequential(\n",
    "    flatten,\n",
    "    layer1,\n",
    "    nn.ReLU(),\n",
    "    nn.Linear(20, 10)\n",
    ")\n",
    "input_image = torch.rand(3,28,28)\n",
    "logits = seq_modules(input_image)"
   ]
  },
  {
   "cell_type": "markdown",
   "metadata": {},
   "source": [
    "nn.Softmax\n",
    "==========\n",
    "\n",
    "神经网络的最后一个线性层返回logits - [-infty, infty] 范围内的原始值 - 这些值将传递给 nn.Softmax 模块。logits 被缩放到 [0, 1] 范围内的值，表示模型对每个类别的预测概率。 dim 参数指示沿哪个维度值必须加起来为 1。\n"
   ]
  },
  {
   "cell_type": "code",
   "execution_count": 30,
   "metadata": {
    "collapsed": false
   },
   "outputs": [],
   "source": [
    "softmax = nn.Softmax(dim=1)\n",
    "pred_probab = softmax(logits)"
   ]
  },
  {
   "cell_type": "markdown",
   "metadata": {},
   "source": [
    "模型参数\n",
    "================\n",
    "\n",
    "神经网络中的许多层都是参数化的，即具有在训练过程中优化的相关权重和偏差。子类化 nn.Module 会自动跟踪模型对象中定义的所有字段，并使用模型的 parameters() 或 named_parameters() 方法使所有参数可访问。\n",
    "\n",
    "在这个示例中，我们遍历每个参数，并打印其大小及其值的预览。\n"
   ]
  },
  {
   "cell_type": "code",
   "execution_count": 31,
   "metadata": {
    "collapsed": false
   },
   "outputs": [
    {
     "name": "stdout",
     "output_type": "stream",
     "text": [
      "Model structure: NeuralNetwork(\n",
      "  (flatten): Flatten(start_dim=1, end_dim=-1)\n",
      "  (linear_relu_stack): Sequential(\n",
      "    (0): Linear(in_features=784, out_features=512, bias=True)\n",
      "    (1): ReLU()\n",
      "    (2): Linear(in_features=512, out_features=512, bias=True)\n",
      "    (3): ReLU()\n",
      "    (4): Linear(in_features=512, out_features=10, bias=True)\n",
      "  )\n",
      ")\n",
      "\n",
      "\n",
      "Layer: linear_relu_stack.0.weight | Size: torch.Size([512, 784]) | Values : tensor([[-0.0251, -0.0059, -0.0127,  ...,  0.0322, -0.0211,  0.0357],\n",
      "        [-0.0208, -0.0239, -0.0178,  ..., -0.0332, -0.0289, -0.0078]],\n",
      "       device='cuda:0', grad_fn=<SliceBackward0>) \n",
      "\n",
      "Layer: linear_relu_stack.0.bias | Size: torch.Size([512]) | Values : tensor([-0.0248, -0.0058], device='cuda:0', grad_fn=<SliceBackward0>) \n",
      "\n",
      "Layer: linear_relu_stack.2.weight | Size: torch.Size([512, 512]) | Values : tensor([[-0.0102,  0.0104, -0.0343,  ...,  0.0148, -0.0277, -0.0077],\n",
      "        [-0.0177,  0.0083, -0.0131,  ...,  0.0007,  0.0072, -0.0194]],\n",
      "       device='cuda:0', grad_fn=<SliceBackward0>) \n",
      "\n",
      "Layer: linear_relu_stack.2.bias | Size: torch.Size([512]) | Values : tensor([-0.0394, -0.0091], device='cuda:0', grad_fn=<SliceBackward0>) \n",
      "\n",
      "Layer: linear_relu_stack.4.weight | Size: torch.Size([10, 512]) | Values : tensor([[ 0.0179,  0.0324, -0.0272,  ..., -0.0439,  0.0433,  0.0259],\n",
      "        [ 0.0084, -0.0056, -0.0367,  ...,  0.0159, -0.0392, -0.0355]],\n",
      "       device='cuda:0', grad_fn=<SliceBackward0>) \n",
      "\n",
      "Layer: linear_relu_stack.4.bias | Size: torch.Size([10]) | Values : tensor([-0.0080, -0.0381], device='cuda:0', grad_fn=<SliceBackward0>) \n",
      "\n"
     ]
    }
   ],
   "source": [
    "print(f\"Model structure: {model}\\n\\n\")\n",
    "\n",
    "for name, param in model.named_parameters():\n",
    "    print(f\"Layer: {name} | Size: {param.size()} | Values : {param[:2]} \\n\")"
   ]
  },
  {
   "cell_type": "markdown",
   "metadata": {},
   "source": [
    "------------------------------------------------------------------------\n"
   ]
  }
 ],
 "metadata": {
  "kernelspec": {
   "display_name": "Python 3",
   "language": "python",
   "name": "python3"
  },
  "language_info": {
   "codemirror_mode": {
    "name": "ipython",
    "version": 3
   },
   "file_extension": ".py",
   "mimetype": "text/x-python",
   "name": "python",
   "nbconvert_exporter": "python",
   "pygments_lexer": "ipython3",
   "version": "3.12.7"
  }
 },
 "nbformat": 4,
 "nbformat_minor": 0
}
