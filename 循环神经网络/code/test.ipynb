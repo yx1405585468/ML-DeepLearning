{
 "cells": [
  {
   "cell_type": "code",
   "execution_count": null,
   "metadata": {},
   "outputs": [],
   "source": [
    "# 导入模块\n",
    "import pandas as pd\n",
    "import torch\n",
    "from torch.utils.data import DataLoader, TensorDataset\n",
    "from sklearn.preprocessing import LabelEncoder\n",
    "from sklearn.preprocessing import MinMaxScaler\n",
    "import numpy as np"
   ]
  },
  {
   "cell_type": "code",
   "execution_count": null,
   "metadata": {},
   "outputs": [],
   "source": [
    "device = torch.device('cuda' if torch.cuda.is_available() else 'cpu')\n",
    "device"
   ]
  },
  {
   "cell_type": "code",
   "execution_count": null,
   "metadata": {},
   "outputs": [],
   "source": [
    "# 读取数据集\n",
    "data = pd.read_csv('../data/pollution.csv',parse_dates=['date'])\n",
    "data.head()"
   ]
  },
  {
   "cell_type": "code",
   "execution_count": null,
   "metadata": {},
   "outputs": [],
   "source": [
    "# 对 'Category' 列进行编码\n",
    "encoder = LabelEncoder()\n",
    "data['wnd_dir'] = encoder.fit_transform(data['wnd_dir'])\n",
    "data = data.set_index('date')\n",
    "data.head()"
   ]
  },
  {
   "cell_type": "code",
   "execution_count": null,
   "metadata": {},
   "outputs": [],
   "source": [
    "# 归一化\n",
    "scaler = MinMaxScaler()\n",
    "scaled_values = scaler.fit_transform(data)\n",
    "data = pd.DataFrame(scaled_values, columns=data.columns)\n",
    "data.head()"
   ]
  },
  {
   "cell_type": "code",
   "execution_count": null,
   "metadata": {},
   "outputs": [],
   "source": [
    "data.shape"
   ]
  },
  {
   "cell_type": "code",
   "execution_count": null,
   "metadata": {},
   "outputs": [],
   "source": [
    "# 构造24小时数据集预测1小时数据\n",
    "input = []\n",
    "label = []\n",
    "for i in range(data.shape[0]-24):\n",
    "    input.append((data.iloc[i:i+24,1:]).values)\n",
    "    label.append(data.iloc[i+24,0])\n",
    "\n",
    "input=np.array(input)\n",
    "label = np.array(label)\n",
    "print(input.shape,label.shape)"
   ]
  },
  {
   "cell_type": "code",
   "execution_count": null,
   "metadata": {},
   "outputs": [],
   "source": [
    "X = torch.tensor(input, dtype=torch.float32).to(device)\n",
    "y = torch.tensor(label, dtype=torch.float32).to(device)"
   ]
  },
  {
   "cell_type": "code",
   "execution_count": null,
   "metadata": {},
   "outputs": [],
   "source": [
    "time_length = 24*365"
   ]
  },
  {
   "cell_type": "code",
   "execution_count": null,
   "metadata": {},
   "outputs": [],
   "source": [
    "Xtrain = X[:24*365]\n",
    "Xtest = X[24*365:]\n",
    "\n",
    "ytrain = y[:24*365]\n",
    "ytest=y[24*365:]"
   ]
  },
  {
   "cell_type": "code",
   "execution_count": null,
   "metadata": {},
   "outputs": [],
   "source": [
    "# 创建训练集数据加载器\n",
    "# TensorDataset用于将输入特征和标签数据打包成一个可迭代的对象。\n",
    "trainset = TensorDataset(Xtrain, ytrain)\n",
    "batch_size = 64\n",
    "train_loader = DataLoader(trainset, batch_size=batch_size, shuffle=True)\n",
    "len(train_loader)"
   ]
  },
  {
   "cell_type": "code",
   "execution_count": null,
   "metadata": {},
   "outputs": [],
   "source": [
    "# 创建测试集数据加载器\n",
    "# TensorDataset用于将输入特征和标签数据打包成一个可迭代的对象。\n",
    "testset = TensorDataset(Xtest, ytest)\n",
    "batch_size = 64\n",
    "test_loader = DataLoader(testset, batch_size=batch_size, shuffle=True)\n",
    "len(test_loader)"
   ]
  },
  {
   "cell_type": "code",
   "execution_count": null,
   "metadata": {},
   "outputs": [],
   "source": [
    "# 获取数据加载器中的第一个批次\n",
    "for data, labels in test_loader:\n",
    "    print(\"数据批次形状:\", data.shape)  # 打印数据的形状\n",
    "    print(\"标签批次形状:\", labels.shape)  # 打印标签的形状\n",
    "    break  # 只获取第一个批次，避免遍历整个数据集"
   ]
  },
  {
   "cell_type": "code",
   "execution_count": null,
   "metadata": {},
   "outputs": [],
   "source": [
    "import torch.nn as nn\n",
    "class LSTMModel(nn.Module):\n",
    "    def __init__(self, input_size, hidden_size, output_size):\n",
    "        super(LSTMModel, self).__init__()\n",
    "        self.lstm = nn.LSTM(input_size, hidden_size, batch_first=True)\n",
    "        self.fc = nn.Linear(hidden_size, output_size)\n",
    "\n",
    "    def forward(self, x):\n",
    "        lstm_out, (h_n, c_n) = self.lstm(x)\n",
    "        out = self.fc(lstm_out[:, -1, :])  # 只取最后一个时间步的输出\n",
    "        return out\n",
    "\n",
    "# 初始化模型、损失函数和优化器\n",
    "input_size = Xtrain.shape[2]  # 特征数\n",
    "hidden_size = 50               # LSTM 隐藏层单元数\n",
    "output_size = 1                # 假设 y 是一个标量\n",
    "\n",
    "model = LSTMModel(input_size, hidden_size, output_size).to(device)\n",
    "loss_funciton = nn.MSELoss()\n",
    "optimizer = torch.optim.Adam(model.parameters(), lr=0.001)"
   ]
  },
  {
   "cell_type": "code",
   "execution_count": null,
   "metadata": {},
   "outputs": [],
   "source": [
    "\n",
    "# 训练模型\n",
    "num_epochs = 10\n",
    "for epoch in range(num_epochs):\n",
    "    model.train()\n",
    "    running_loss = 0.0\n",
    "\n",
    "    for inputs, targets in train_loader:\n",
    "        optimizer.zero_grad()\n",
    "\n",
    "        # 前向传播\n",
    "        outputs = model(inputs)\n",
    "\n",
    "        # 计算损失\n",
    "        loss = loss_funciton(outputs, targets)\n",
    "\n",
    "        # 反向传播和优化\n",
    "        loss.backward()\n",
    "        optimizer.step()\n",
    "\n",
    "        running_loss += loss.item()\n",
    "\n",
    "    # 输出每个 epoch 的平均损失\n",
    "    print(f\"Epoch [{epoch+1}/{num_epochs}], Loss: {running_loss/len(train_loader)}\")"
   ]
  },
  {
   "cell_type": "code",
   "execution_count": null,
   "metadata": {},
   "outputs": [],
   "source": [
    "# 设置模型为评估模式\n",
    "model.eval()\n",
    "with torch.no_grad():\n",
    "    # 创建评估变量\n",
    "    total_loss = 0\n",
    "    total_samples = 0\n",
    "    correct_predictions = 0\n",
    "\n",
    "    # 评估测试集\n",
    "    for inputs, targets in test_loader:\n",
    "        # 前向传播\n",
    "        outputs = model(inputs)\n",
    "\n",
    "        # 计算损失\n",
    "        loss = loss_funciton(outputs, targets)\n",
    "        total_loss += loss.item() * inputs.size(0)  # 累积损失\n",
    "\n",
    "        # 统计正确预测\n",
    "        correct_predictions += (outputs.round() == targets).sum().item()  # 对于回归任务可修改为适应任务类型\n",
    "\n",
    "        total_samples += inputs.size(0)\n",
    "\n",
    "    # 计算平均损失和准确率\n",
    "    avg_loss = total_loss / total_samples\n",
    "    accuracy = correct_predictions / total_samples\n",
    "\n",
    "    # 输出结果\n",
    "    print(f\"Test Loss: {avg_loss:.4f}\")\n",
    "    print(f\"Test Accuracy: {accuracy:.4f}\")\n"
   ]
  }
 ],
 "metadata": {
  "kernelspec": {
   "display_name": "Python 3",
   "language": "python",
   "name": "python3"
  },
  "language_info": {
   "codemirror_mode": {
    "name": "ipython",
    "version": 3
   },
   "file_extension": ".py",
   "mimetype": "text/x-python",
   "name": "python",
   "nbconvert_exporter": "python",
   "pygments_lexer": "ipython3",
   "version": "3.12.7"
  }
 },
 "nbformat": 4,
 "nbformat_minor": 2
}
